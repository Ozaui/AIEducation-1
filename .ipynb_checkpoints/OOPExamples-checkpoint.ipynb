{
 "cells": [
  {
   "cell_type": "code",
   "execution_count": 1,
   "id": "7398e3c6-b611-4741-af9a-62ef3bfdb7b2",
   "metadata": {},
   "outputs": [],
   "source": [
    "# Polymorphism, Encapsulation, Abstraction, Inheritance"
   ]
  },
  {
   "cell_type": "markdown",
   "id": "a656f7c2-46be-4084-9094-78419d6f1801",
   "metadata": {},
   "source": [
    "# Inheritance (Kalıtım)"
   ]
  },
  {
   "cell_type": "code",
   "execution_count": 6,
   "id": "1ec5eb7f-087f-4b0b-9400-05b546aa093b",
   "metadata": {},
   "outputs": [],
   "source": [
    "class Musician():\n",
    "    def __init__(self,name):\n",
    "        self.name = name\n",
    "        print(\"musican class\")\n",
    "    def test1(self):\n",
    "        print(\"test1\")\n",
    "    def test2(self):\n",
    "        print(\"test2\")"
   ]
  },
  {
   "cell_type": "code",
   "execution_count": 9,
   "id": "5acad6f8-7e4a-4d72-9e57-4d05095d2b68",
   "metadata": {},
   "outputs": [
    {
     "name": "stdout",
     "output_type": "stream",
     "text": [
      "musican class\n"
     ]
    },
    {
     "data": {
      "text/plain": [
       "'Özay'"
      ]
     },
     "execution_count": 9,
     "metadata": {},
     "output_type": "execute_result"
    }
   ],
   "source": [
    "ozay = Musician(\"Özay\")\n",
    "ozay.name"
   ]
  },
  {
   "cell_type": "code",
   "execution_count": 10,
   "id": "762950f3-aa76-4962-9d96-5acb365ef2ad",
   "metadata": {},
   "outputs": [
    {
     "name": "stdout",
     "output_type": "stream",
     "text": [
      "test1\n",
      "test2\n"
     ]
    }
   ],
   "source": [
    "ozay.test1()\n",
    "ozay.test2()"
   ]
  },
  {
   "cell_type": "code",
   "execution_count": 27,
   "id": "7aba7c44-3162-4efa-bb4b-1a5ddf61df67",
   "metadata": {},
   "outputs": [],
   "source": [
    "class MusicianPlus(Musician):\n",
    "    def __init__(self, name):\n",
    "        Musician.__init__(self, name)\n",
    "        print(\"musician plus class\")\n",
    "\n",
    "    def test3(self):\n",
    "        print(\"test3\")\n",
    "\n",
    "    #Override\n",
    "    def test1(self):\n",
    "        print(\"test1 test1\")"
   ]
  },
  {
   "cell_type": "code",
   "execution_count": 28,
   "id": "93a16864-8f88-4598-95c2-78e2d192372a",
   "metadata": {},
   "outputs": [
    {
     "name": "stdout",
     "output_type": "stream",
     "text": [
      "musican class\n",
      "musician plus class\n"
     ]
    }
   ],
   "source": [
    "merve = MusicianPlus(\"Merve\")"
   ]
  },
  {
   "cell_type": "code",
   "execution_count": 29,
   "id": "2d731c6c-b695-462c-92c2-427e2c04f580",
   "metadata": {},
   "outputs": [
    {
     "name": "stdout",
     "output_type": "stream",
     "text": [
      "test1 test1\n",
      "test2\n"
     ]
    }
   ],
   "source": [
    "merve.test1()\n",
    "merve.test2()"
   ]
  },
  {
   "cell_type": "code",
   "execution_count": 30,
   "id": "1b7a5f0d-2b24-4df6-a4ad-aedcd568e431",
   "metadata": {},
   "outputs": [
    {
     "data": {
      "text/plain": [
       "'Merve'"
      ]
     },
     "execution_count": 30,
     "metadata": {},
     "output_type": "execute_result"
    }
   ],
   "source": [
    "merve.name"
   ]
  },
  {
   "cell_type": "code",
   "execution_count": 31,
   "id": "03132f2f-1367-4dcd-84ff-061d08a83fdc",
   "metadata": {},
   "outputs": [
    {
     "name": "stdout",
     "output_type": "stream",
     "text": [
      "test3\n"
     ]
    }
   ],
   "source": [
    "merve.test3()"
   ]
  },
  {
   "cell_type": "markdown",
   "id": "7dedb7b4-6251-44d9-a196-30fb9e899897",
   "metadata": {},
   "source": [
    "# POLYMORPHISM"
   ]
  },
  {
   "cell_type": "code",
   "execution_count": 37,
   "id": "6bdcaa3b-78cb-43d6-93f6-06c206608cc3",
   "metadata": {},
   "outputs": [],
   "source": [
    "class Banana():\n",
    "    def __init__(self,name):\n",
    "        self.name = name\n",
    "    def info(self):\n",
    "        return f\"100 calıries {self.name}\"\n",
    "\n",
    "class Apple():\n",
    "    def __init__(self,name):\n",
    "        self.name = name\n",
    "    def info(self):\n",
    "        return f\"150 calıries {self.name}\""
   ]
  },
  {
   "cell_type": "code",
   "execution_count": 38,
   "id": "660d7a3f-762c-42ed-8bca-ffbfe72f0a09",
   "metadata": {},
   "outputs": [],
   "source": [
    "banana1 = Banana(\"banana 1\")"
   ]
  },
  {
   "cell_type": "code",
   "execution_count": 39,
   "id": "e64e74b1-4e54-40c1-8797-f70bccf2a28f",
   "metadata": {},
   "outputs": [],
   "source": [
    "apple1 = Apple(\"apple 1\")"
   ]
  },
  {
   "cell_type": "code",
   "execution_count": 40,
   "id": "f259d566-75af-443e-adf2-490cfbaa2cca",
   "metadata": {},
   "outputs": [
    {
     "data": {
      "text/plain": [
       "'150 calıries apple 1'"
      ]
     },
     "execution_count": 40,
     "metadata": {},
     "output_type": "execute_result"
    }
   ],
   "source": [
    "apple1.info()"
   ]
  },
  {
   "cell_type": "code",
   "execution_count": 41,
   "id": "d3f7fdba-3c4d-4310-8f28-5187328a5f8e",
   "metadata": {},
   "outputs": [
    {
     "data": {
      "text/plain": [
       "'100 calıries banana 1'"
      ]
     },
     "execution_count": 41,
     "metadata": {},
     "output_type": "execute_result"
    }
   ],
   "source": [
    "banana1.info()"
   ]
  },
  {
   "cell_type": "code",
   "execution_count": 42,
   "id": "b791abad-5142-4b6e-8636-5de5f25baf97",
   "metadata": {},
   "outputs": [
    {
     "name": "stdout",
     "output_type": "stream",
     "text": [
      "100 calıries banana 1\n",
      "150 calıries apple 1\n"
     ]
    }
   ],
   "source": [
    "fruitList = [banana1, apple1]\n",
    "for fruit in fruitList:\n",
    "    print(fruit.info())"
   ]
  },
  {
   "cell_type": "markdown",
   "id": "c58a066a-5b15-4351-ad90-7fce6cdd0da4",
   "metadata": {},
   "source": [
    "# ENCAPSULATION"
   ]
  },
  {
   "cell_type": "code",
   "execution_count": 63,
   "id": "b3382300-e538-4eab-a354-f640af8fb194",
   "metadata": {},
   "outputs": [],
   "source": [
    "class Phone():\n",
    "    def __init__(self, name, price):\n",
    "        self.name = name\n",
    "        self.__price = price\n",
    "\n",
    "    def info(self):\n",
    "        print(f\"{self.name} price is : {self.__price}\")\n",
    "\n",
    "    # Bu method sayesinde değiştirilebilecek\n",
    "    def changePrice(self, price):\n",
    "        self.__price = price"
   ]
  },
  {
   "cell_type": "code",
   "execution_count": 64,
   "id": "68764c65-3615-4593-b3f8-1a26b8266710",
   "metadata": {},
   "outputs": [],
   "source": [
    "iphone11 = Phone(\"Iphone 11\", 500)"
   ]
  },
  {
   "cell_type": "code",
   "execution_count": 65,
   "id": "52795846-3dbd-461f-942f-09d5b8df1ce4",
   "metadata": {},
   "outputs": [
    {
     "name": "stdout",
     "output_type": "stream",
     "text": [
      "Iphone 11 price is : 500\n"
     ]
    }
   ],
   "source": [
    "iphone11.info()"
   ]
  },
  {
   "cell_type": "code",
   "execution_count": 66,
   "id": "39ed0870-44a3-4545-8902-a7b6f6181ea6",
   "metadata": {},
   "outputs": [
    {
     "data": {
      "text/plain": [
       "'Iphone 11'"
      ]
     },
     "execution_count": 66,
     "metadata": {},
     "output_type": "execute_result"
    }
   ],
   "source": [
    "iphone11.name"
   ]
  },
  {
   "cell_type": "code",
   "execution_count": 67,
   "id": "460bd8d6-dc27-420c-9500-2c1281f09b17",
   "metadata": {},
   "outputs": [],
   "source": [
    "iphone11.price = 400 # Görüldüğü gibi artık değişmiyor"
   ]
  },
  {
   "cell_type": "code",
   "execution_count": 61,
   "id": "625b6812-4ed7-46a8-920f-eaedf427e104",
   "metadata": {},
   "outputs": [
    {
     "name": "stdout",
     "output_type": "stream",
     "text": [
      "Iphone 11 price is : 500\n"
     ]
    }
   ],
   "source": [
    "iphone11.info()"
   ]
  },
  {
   "cell_type": "code",
   "execution_count": 71,
   "id": "a56e95b3-305f-4178-805e-877aa4637277",
   "metadata": {},
   "outputs": [],
   "source": [
    "iphone11.changePrice(300) #Method ile değiştirebildik"
   ]
  },
  {
   "cell_type": "code",
   "execution_count": 72,
   "id": "25cdddf3-08a9-4e06-a986-ee31996f1bcb",
   "metadata": {},
   "outputs": [
    {
     "name": "stdout",
     "output_type": "stream",
     "text": [
      "Iphone 11 price is : 300\n"
     ]
    }
   ],
   "source": [
    "iphone11.info()"
   ]
  },
  {
   "cell_type": "code",
   "execution_count": null,
   "id": "070b0e0f-7741-4f6a-9e89-4c3bee81a3b6",
   "metadata": {},
   "outputs": [],
   "source": []
  }
 ],
 "metadata": {
  "kernelspec": {
   "display_name": "Python [conda env:base] *",
   "language": "python",
   "name": "conda-base-py"
  },
  "language_info": {
   "codemirror_mode": {
    "name": "ipython",
    "version": 3
   },
   "file_extension": ".py",
   "mimetype": "text/x-python",
   "name": "python",
   "nbconvert_exporter": "python",
   "pygments_lexer": "ipython3",
   "version": "3.13.5"
  }
 },
 "nbformat": 4,
 "nbformat_minor": 5
}
