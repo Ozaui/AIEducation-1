{
 "cells": [
  {
   "cell_type": "code",
   "execution_count": 2,
   "id": "aa8b4381-475a-4a40-ba0b-69c736c2d205",
   "metadata": {},
   "outputs": [],
   "source": [
    "def divideNumber(number):\n",
    "    return number/2"
   ]
  },
  {
   "cell_type": "code",
   "execution_count": 3,
   "id": "173f6f2b-79f2-4422-9555-5aeabfd0218a",
   "metadata": {},
   "outputs": [
    {
     "data": {
      "text/plain": [
       "10.0"
      ]
     },
     "execution_count": 3,
     "metadata": {},
     "output_type": "execute_result"
    }
   ],
   "source": [
    "divideNumber(20)"
   ]
  },
  {
   "cell_type": "code",
   "execution_count": 6,
   "id": "51328bf4-ad7d-4720-a1b8-28490bc1a88b",
   "metadata": {},
   "outputs": [],
   "source": [
    "myList = [3,5,7,10,20,30]"
   ]
  },
  {
   "cell_type": "code",
   "execution_count": 7,
   "id": "0644439b-5e56-4144-9b32-b5e963b3dc3e",
   "metadata": {},
   "outputs": [],
   "source": [
    "my_new_list = []\n",
    "for item in myList:\n",
    "    result = divideNumber(item)\n",
    "    my_new_list.append(result)"
   ]
  },
  {
   "cell_type": "code",
   "execution_count": 8,
   "id": "016e0365-905c-4927-99ff-33f6b6c92d46",
   "metadata": {},
   "outputs": [
    {
     "data": {
      "text/plain": [
       "[1.5, 2.5, 3.5, 5.0, 10.0, 15.0]"
      ]
     },
     "execution_count": 8,
     "metadata": {},
     "output_type": "execute_result"
    }
   ],
   "source": [
    "my_new_list"
   ]
  },
  {
   "cell_type": "markdown",
   "id": "e0c5e5fe-377b-4042-a3e6-7218dc258125",
   "metadata": {},
   "source": [
    "# map"
   ]
  },
  {
   "cell_type": "code",
   "execution_count": 9,
   "id": "5c29cdf0-e235-4ecb-bf9c-434ac5667042",
   "metadata": {},
   "outputs": [
    {
     "name": "stdout",
     "output_type": "stream",
     "text": [
      "Help on class map in module builtins:\n",
      "\n",
      "class map(object)\n",
      " |  map(function, iterable, /, *iterables)\n",
      " |\n",
      " |  Make an iterator that computes the function using arguments from\n",
      " |  each of the iterables.  Stops when the shortest iterable is exhausted.\n",
      " |\n",
      " |  Methods defined here:\n",
      " |\n",
      " |  __getattribute__(self, name, /)\n",
      " |      Return getattr(self, name).\n",
      " |\n",
      " |  __iter__(self, /)\n",
      " |      Implement iter(self).\n",
      " |\n",
      " |  __next__(self, /)\n",
      " |      Implement next(self).\n",
      " |\n",
      " |  __reduce__(self, /)\n",
      " |      Return state information for pickling.\n",
      " |\n",
      " |  ----------------------------------------------------------------------\n",
      " |  Static methods defined here:\n",
      " |\n",
      " |  __new__(*args, **kwargs)\n",
      " |      Create and return a new object.  See help(type) for accurate signature.\n",
      "\n"
     ]
    }
   ],
   "source": [
    "help(map)"
   ]
  },
  {
   "cell_type": "code",
   "execution_count": 11,
   "id": "6421f662-be37-4ab3-8dc6-bc236b53a943",
   "metadata": {},
   "outputs": [
    {
     "data": {
      "text/plain": [
       "[1.5, 2.5, 3.5, 5.0, 10.0, 15.0]"
      ]
     },
     "execution_count": 11,
     "metadata": {},
     "output_type": "execute_result"
    }
   ],
   "source": [
    "list(map(divideNumber, myList))"
   ]
  },
  {
   "cell_type": "code",
   "execution_count": 12,
   "id": "81e3ad25-0517-4477-b0b1-5bf5a147deb5",
   "metadata": {},
   "outputs": [],
   "source": [
    "def controlString(string):\n",
    "    return \"Özay\" in string"
   ]
  },
  {
   "cell_type": "code",
   "execution_count": 14,
   "id": "a2d10865-ee0d-433d-94a5-cafaba05fbbf",
   "metadata": {},
   "outputs": [
    {
     "data": {
      "text/plain": [
       "True"
      ]
     },
     "execution_count": 14,
     "metadata": {},
     "output_type": "execute_result"
    }
   ],
   "source": [
    "controlString(\"TestÖzay Test\")"
   ]
  },
  {
   "cell_type": "code",
   "execution_count": 15,
   "id": "c4f9b594-261a-4d7c-a95a-558420d9164f",
   "metadata": {},
   "outputs": [
    {
     "data": {
      "text/plain": [
       "False"
      ]
     },
     "execution_count": 15,
     "metadata": {},
     "output_type": "execute_result"
    }
   ],
   "source": [
    "controlString(\"testYokTest\")"
   ]
  },
  {
   "cell_type": "code",
   "execution_count": 16,
   "id": "a5edea85-03f9-4f08-af81-4846ea35d605",
   "metadata": {},
   "outputs": [],
   "source": [
    "myStringList = [\"test\", \"ÖzayTest\", \"TestMerve\",\"merve\"]"
   ]
  },
  {
   "cell_type": "code",
   "execution_count": 18,
   "id": "efaf93e7-de3d-44e4-a7d7-6af86eea6367",
   "metadata": {},
   "outputs": [
    {
     "data": {
      "text/plain": [
       "[False, True, False, False]"
      ]
     },
     "execution_count": 18,
     "metadata": {},
     "output_type": "execute_result"
    }
   ],
   "source": [
    "list(map(controlString, myStringList))"
   ]
  },
  {
   "cell_type": "markdown",
   "id": "961db15e-661a-41aa-b357-bb691a3a8e03",
   "metadata": {},
   "source": [
    "# Filter"
   ]
  },
  {
   "cell_type": "code",
   "execution_count": 20,
   "id": "53143835-673f-4960-882a-c62451aa3c3e",
   "metadata": {},
   "outputs": [
    {
     "data": {
      "text/plain": [
       "['ÖzayTest']"
      ]
     },
     "execution_count": 20,
     "metadata": {},
     "output_type": "execute_result"
    }
   ],
   "source": [
    "list(filter(controlString, myStringList))"
   ]
  },
  {
   "cell_type": "markdown",
   "id": "02d9cf01-f4bf-4482-aacc-5ea8cf43a1a5",
   "metadata": {},
   "source": [
    "# Lambda"
   ]
  },
  {
   "cell_type": "code",
   "execution_count": 21,
   "id": "69e9c712-789c-4c58-bae7-46199b011632",
   "metadata": {},
   "outputs": [],
   "source": [
    "multiplyLambda = lambda num : num * 3"
   ]
  },
  {
   "cell_type": "code",
   "execution_count": 22,
   "id": "cca3675d-64e9-406f-aabc-73538e813d8f",
   "metadata": {},
   "outputs": [
    {
     "data": {
      "text/plain": [
       "function"
      ]
     },
     "execution_count": 22,
     "metadata": {},
     "output_type": "execute_result"
    }
   ],
   "source": [
    "type(multiplyLambda)"
   ]
  },
  {
   "cell_type": "code",
   "execution_count": 23,
   "id": "06ea0d7f-ca9e-49ed-a6d5-eac4c77c08f0",
   "metadata": {},
   "outputs": [
    {
     "data": {
      "text/plain": [
       "60"
      ]
     },
     "execution_count": 23,
     "metadata": {},
     "output_type": "execute_result"
    }
   ],
   "source": [
    "multiplyLambda(20)"
   ]
  },
  {
   "cell_type": "code",
   "execution_count": 24,
   "id": "c1b06b93-6fb9-4982-8f9a-550be7d5179e",
   "metadata": {},
   "outputs": [
    {
     "data": {
      "text/plain": [
       "90"
      ]
     },
     "execution_count": 24,
     "metadata": {},
     "output_type": "execute_result"
    }
   ],
   "source": [
    "result = multiplyLambda(30)\n",
    "result"
   ]
  },
  {
   "cell_type": "code",
   "execution_count": 25,
   "id": "10e4ad1c-8d24-447f-beaf-e690851b0d19",
   "metadata": {},
   "outputs": [],
   "source": [
    "numList = [10,20,30,40,50]"
   ]
  },
  {
   "cell_type": "code",
   "execution_count": 27,
   "id": "77f12c2b-7eeb-4a15-a622-499cb4a0a778",
   "metadata": {},
   "outputs": [
    {
     "data": {
      "text/plain": [
       "[2.5, 5.0, 7.5, 10.0, 12.5]"
      ]
     },
     "execution_count": 27,
     "metadata": {},
     "output_type": "execute_result"
    }
   ],
   "source": [
    "list(map(lambda num : num / 4, numList))"
   ]
  },
  {
   "cell_type": "code",
   "execution_count": 29,
   "id": "df6f0051-65d3-4af9-bdc3-7b2c13829a7b",
   "metadata": {},
   "outputs": [],
   "source": [
    "x = 20\n",
    "\n",
    "def multiply(num):\n",
    "    x = 5\n",
    "    return num * x"
   ]
  },
  {
   "cell_type": "code",
   "execution_count": 30,
   "id": "34e1b561-67db-4b16-bbd9-68021ff8416c",
   "metadata": {},
   "outputs": [
    {
     "data": {
      "text/plain": [
       "100"
      ]
     },
     "execution_count": 30,
     "metadata": {},
     "output_type": "execute_result"
    }
   ],
   "source": [
    "multiply(20)"
   ]
  },
  {
   "cell_type": "code",
   "execution_count": 31,
   "id": "6f6ae2c0-b240-4702-ab02-86f035f52cb1",
   "metadata": {},
   "outputs": [],
   "source": [
    " # LEGB => L -> local, E -> Enclosing, G -> Global, B -> Built-In"
   ]
  },
  {
   "cell_type": "code",
   "execution_count": 39,
   "id": "872e2b52-e5fd-4fcd-ac97-4e1574006724",
   "metadata": {},
   "outputs": [],
   "source": [
    "#Global\n",
    "myString = \"Özay\"\n",
    "def myFunction():\n",
    "    #Enclosing\n",
    "    myString = \"Test Özay\"\n",
    "    print(myString)\n",
    "    \n",
    "    def myFunction2():\n",
    "        #Local\n",
    "        myString = \"Test Test Özay\"\n",
    "        print(myString)\n",
    "\n",
    "    myFunction2()"
   ]
  },
  {
   "cell_type": "code",
   "execution_count": 40,
   "id": "377dcd3b-71d1-41b4-8f8c-aa0729dfdcbe",
   "metadata": {},
   "outputs": [
    {
     "data": {
      "text/plain": [
       "'Özay'"
      ]
     },
     "execution_count": 40,
     "metadata": {},
     "output_type": "execute_result"
    }
   ],
   "source": [
    "myString"
   ]
  },
  {
   "cell_type": "code",
   "execution_count": 41,
   "id": "bff1b98b-aaae-4cb7-b595-dca6a129dd37",
   "metadata": {},
   "outputs": [
    {
     "name": "stdout",
     "output_type": "stream",
     "text": [
      "Test Özay\n",
      "Test Test Özay\n"
     ]
    }
   ],
   "source": [
    "myFunction()"
   ]
  },
  {
   "cell_type": "code",
   "execution_count": 42,
   "id": "0351771a-0ee9-40a8-8f09-e7d1c9a56388",
   "metadata": {},
   "outputs": [
    {
     "data": {
      "text/plain": [
       "'Özay'"
      ]
     },
     "execution_count": 42,
     "metadata": {},
     "output_type": "execute_result"
    }
   ],
   "source": [
    "myString"
   ]
  },
  {
   "cell_type": "code",
   "execution_count": 43,
   "id": "94e5832c-dcd0-44d6-86c2-120720ff824c",
   "metadata": {},
   "outputs": [],
   "source": [
    "y = 10\n",
    "def newFunciton(y):\n",
    "    print(y)\n",
    "    y = 5\n",
    "    print(y)\n",
    "    return y"
   ]
  },
  {
   "cell_type": "code",
   "execution_count": 44,
   "id": "7ba73411-6121-409e-a014-c0e77cb35423",
   "metadata": {},
   "outputs": [
    {
     "name": "stdout",
     "output_type": "stream",
     "text": [
      "20\n",
      "5\n"
     ]
    },
    {
     "data": {
      "text/plain": [
       "5"
      ]
     },
     "execution_count": 44,
     "metadata": {},
     "output_type": "execute_result"
    }
   ],
   "source": [
    "newFunciton(20)"
   ]
  },
  {
   "cell_type": "code",
   "execution_count": 46,
   "id": "64ffa541-b042-435e-ac77-368ff13b040b",
   "metadata": {},
   "outputs": [
    {
     "name": "stdout",
     "output_type": "stream",
     "text": [
      "10\n",
      "5\n"
     ]
    },
    {
     "data": {
      "text/plain": [
       "5"
      ]
     },
     "execution_count": 46,
     "metadata": {},
     "output_type": "execute_result"
    }
   ],
   "source": [
    "newFunciton(10)"
   ]
  },
  {
   "cell_type": "code",
   "execution_count": 47,
   "id": "61173730-4574-4a65-a225-6942bc4fa7bd",
   "metadata": {},
   "outputs": [],
   "source": [
    "y = 10\n",
    "\n",
    "def changeY():\n",
    "    global y\n",
    "    y = 5\n",
    "    print(y)"
   ]
  },
  {
   "cell_type": "code",
   "execution_count": 49,
   "id": "b31b8c4f-5503-4a7d-99d9-329c780832b2",
   "metadata": {},
   "outputs": [
    {
     "name": "stdout",
     "output_type": "stream",
     "text": [
      "5\n"
     ]
    }
   ],
   "source": [
    "changeY()"
   ]
  },
  {
   "cell_type": "code",
   "execution_count": null,
   "id": "9893a9bd-a412-4013-ab59-8a4247059c4f",
   "metadata": {},
   "outputs": [],
   "source": []
  }
 ],
 "metadata": {
  "kernelspec": {
   "display_name": "Python [conda env:base] *",
   "language": "python",
   "name": "conda-base-py"
  },
  "language_info": {
   "codemirror_mode": {
    "name": "ipython",
    "version": 3
   },
   "file_extension": ".py",
   "mimetype": "text/x-python",
   "name": "python",
   "nbconvert_exporter": "python",
   "pygments_lexer": "ipython3",
   "version": "3.13.5"
  }
 },
 "nbformat": 4,
 "nbformat_minor": 5
}
