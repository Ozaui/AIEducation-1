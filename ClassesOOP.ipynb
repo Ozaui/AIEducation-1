{
 "cells": [
  {
   "cell_type": "code",
   "execution_count": 3,
   "id": "56eb6265-7637-4056-9087-61aa390ba296",
   "metadata": {},
   "outputs": [],
   "source": [
    "class Person():\n",
    "    # Zorunlu olmayanları buraya yaz.\n",
    "    # name = \"\"\n",
    "    # age = 0\n",
    "    # gender = \"\"\n",
    "    job = \"Developer\"\n",
    "\n",
    "    # initializer method. Bir değişken bu classı aldığında ilk bu fonksiyon çalışır.\n",
    "    def __init__(self, name, age, gender):\n",
    "        self.name = name\n",
    "        self.age = age\n",
    "        self.gender = gender\n",
    "        \n",
    "    # method\n",
    "    def test(self):\n",
    "        print(self.name)"
   ]
  },
  {
   "cell_type": "code",
   "execution_count": 4,
   "id": "f7323adc-75f9-483e-8296-77c8535bca84",
   "metadata": {},
   "outputs": [],
   "source": [
    "ozay = Person(\"Ozay Melih\", 24, \"Male\")"
   ]
  },
  {
   "cell_type": "code",
   "execution_count": 5,
   "id": "2062c375-ebf1-4eae-86c0-7026c2c78db8",
   "metadata": {},
   "outputs": [
    {
     "data": {
      "text/plain": [
       "'Ozay Melih'"
      ]
     },
     "execution_count": 5,
     "metadata": {},
     "output_type": "execute_result"
    }
   ],
   "source": [
    "ozay.name"
   ]
  },
  {
   "cell_type": "code",
   "execution_count": 6,
   "id": "b8c3ad2c-f732-4b56-b370-f77869f70744",
   "metadata": {},
   "outputs": [
    {
     "data": {
      "text/plain": [
       "24"
      ]
     },
     "execution_count": 6,
     "metadata": {},
     "output_type": "execute_result"
    }
   ],
   "source": [
    "ozay.age"
   ]
  },
  {
   "cell_type": "code",
   "execution_count": 7,
   "id": "1562b6ab-15d6-4039-925f-8076f17d1de9",
   "metadata": {},
   "outputs": [
    {
     "data": {
      "text/plain": [
       "'Male'"
      ]
     },
     "execution_count": 7,
     "metadata": {},
     "output_type": "execute_result"
    }
   ],
   "source": [
    "ozay.gender"
   ]
  },
  {
   "cell_type": "code",
   "execution_count": 8,
   "id": "d4a6639c-8dd9-4bc9-b795-e6dec1752376",
   "metadata": {},
   "outputs": [
    {
     "name": "stdout",
     "output_type": "stream",
     "text": [
      "Ozay Melih\n"
     ]
    }
   ],
   "source": [
    "ozay.test()"
   ]
  },
  {
   "cell_type": "code",
   "execution_count": 9,
   "id": "d47234aa-1c71-4c42-bcb8-a3efac3faa29",
   "metadata": {},
   "outputs": [
    {
     "data": {
      "text/plain": [
       "'Developer'"
      ]
     },
     "execution_count": 9,
     "metadata": {},
     "output_type": "execute_result"
    }
   ],
   "source": [
    "ozay.job"
   ]
  },
  {
   "cell_type": "code",
   "execution_count": 11,
   "id": "472944b2-2d89-4c05-9cb6-909d7fbcbe61",
   "metadata": {},
   "outputs": [
    {
     "data": {
      "text/plain": [
       "'instructor'"
      ]
     },
     "execution_count": 11,
     "metadata": {},
     "output_type": "execute_result"
    }
   ],
   "source": [
    "ozay.job=\"instructor\"\n",
    "ozay.job"
   ]
  },
  {
   "cell_type": "markdown",
   "id": "d9363c87-a73a-4901-8c6d-d479764ced50",
   "metadata": {},
   "source": [
    "---------------------------------"
   ]
  },
  {
   "cell_type": "code",
   "execution_count": 36,
   "id": "0577a794-1d80-4bbf-89cc-7c8c8bbc01c3",
   "metadata": {},
   "outputs": [],
   "source": [
    "class Dog():\n",
    "    year = 7\n",
    "    \n",
    "    def __init__(self,age = 5):\n",
    "        self.age = age\n",
    "        self.dogHumanAge = age * 7\n",
    "        print(\"dog instance\")\n",
    "        \n",
    "    def humanAge(self):\n",
    "        return self.age * self.year # Dog.year -> self.year"
   ]
  },
  {
   "cell_type": "code",
   "execution_count": 37,
   "id": "51af0ae3-a2ff-40b7-bbe6-8be73e3d2b70",
   "metadata": {},
   "outputs": [
    {
     "name": "stdout",
     "output_type": "stream",
     "text": [
      "dog instance\n"
     ]
    }
   ],
   "source": [
    "myDog = Dog(3)"
   ]
  },
  {
   "cell_type": "code",
   "execution_count": 38,
   "id": "daa215ef-08b0-4b04-b31c-e60e095d4355",
   "metadata": {},
   "outputs": [
    {
     "data": {
      "text/plain": [
       "3"
      ]
     },
     "execution_count": 38,
     "metadata": {},
     "output_type": "execute_result"
    }
   ],
   "source": [
    "myDog.age"
   ]
  },
  {
   "cell_type": "code",
   "execution_count": 39,
   "id": "9c64d146-1ea4-47ce-93fd-73a019cf2acc",
   "metadata": {},
   "outputs": [
    {
     "data": {
      "text/plain": [
       "21"
      ]
     },
     "execution_count": 39,
     "metadata": {},
     "output_type": "execute_result"
    }
   ],
   "source": [
    "myDog.humanAge()"
   ]
  },
  {
   "cell_type": "code",
   "execution_count": 40,
   "id": "64ea836f-864c-4d5c-b578-402379cd5928",
   "metadata": {},
   "outputs": [
    {
     "data": {
      "text/plain": [
       "21"
      ]
     },
     "execution_count": 40,
     "metadata": {},
     "output_type": "execute_result"
    }
   ],
   "source": [
    "myDog.dogHumanAge"
   ]
  },
  {
   "cell_type": "code",
   "execution_count": 41,
   "id": "53bb77e7-f498-473e-afd2-b74745901f24",
   "metadata": {},
   "outputs": [
    {
     "name": "stdout",
     "output_type": "stream",
     "text": [
      "dog instance\n"
     ]
    },
    {
     "data": {
      "text/plain": [
       "5"
      ]
     },
     "execution_count": 41,
     "metadata": {},
     "output_type": "execute_result"
    }
   ],
   "source": [
    "barley = Dog()\n",
    "barley.age"
   ]
  },
  {
   "cell_type": "code",
   "execution_count": null,
   "id": "c0a1ab86-f19d-4e7f-8907-dddc14d4a485",
   "metadata": {},
   "outputs": [],
   "source": []
  }
 ],
 "metadata": {
  "kernelspec": {
   "display_name": "Python [conda env:base] *",
   "language": "python",
   "name": "conda-base-py"
  },
  "language_info": {
   "codemirror_mode": {
    "name": "ipython",
    "version": 3
   },
   "file_extension": ".py",
   "mimetype": "text/x-python",
   "name": "python",
   "nbconvert_exporter": "python",
   "pygments_lexer": "ipython3",
   "version": "3.13.5"
  }
 },
 "nbformat": 4,
 "nbformat_minor": 5
}
