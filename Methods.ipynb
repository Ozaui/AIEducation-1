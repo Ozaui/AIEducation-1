{
 "cells": [
  {
   "cell_type": "markdown",
   "id": "457a37fc-b2c5-4c5f-98a9-4c9028eb826d",
   "metadata": {},
   "source": [
    "# Methods vs Functions"
   ]
  },
  {
   "cell_type": "code",
   "execution_count": 2,
   "id": "ea563c20-8a58-40ca-9c5d-04e980c85afc",
   "metadata": {},
   "outputs": [],
   "source": [
    "my_name = \"Özay\""
   ]
  },
  {
   "cell_type": "code",
   "execution_count": 4,
   "id": "33877c23-161f-404e-8a51-86dfc4ce7d28",
   "metadata": {},
   "outputs": [
    {
     "data": {
      "text/plain": [
       "'ÖZAY'"
      ]
     },
     "execution_count": 4,
     "metadata": {},
     "output_type": "execute_result"
    }
   ],
   "source": [
    "my_name.upper()"
   ]
  },
  {
   "cell_type": "code",
   "execution_count": 5,
   "id": "681d8cf2-7b95-4ff5-98f1-361aa9398a92",
   "metadata": {},
   "outputs": [],
   "source": [
    "def hello_phyton():\n",
    "    print(\"hello\")\n",
    "    print(\"phyton\")"
   ]
  },
  {
   "cell_type": "code",
   "execution_count": 6,
   "id": "d83b87d0-0111-4f70-a5a4-ce75ba39bf38",
   "metadata": {},
   "outputs": [
    {
     "name": "stdout",
     "output_type": "stream",
     "text": [
      "hello\n",
      "phyton\n"
     ]
    }
   ],
   "source": [
    "hello_phyton()"
   ]
  },
  {
   "cell_type": "code",
   "execution_count": 11,
   "id": "02077f0f-c115-40dc-b1f4-772b38509d75",
   "metadata": {},
   "outputs": [],
   "source": [
    "def hello_name(name):\n",
    "    print(\"hello\")\n",
    "    print(name)"
   ]
  },
  {
   "cell_type": "code",
   "execution_count": 13,
   "id": "5d9718b4-6eff-4a3e-83df-f90ecdec4e56",
   "metadata": {},
   "outputs": [
    {
     "name": "stdout",
     "output_type": "stream",
     "text": [
      "hello\n",
      "Özay\n"
     ]
    }
   ],
   "source": [
    "hello_name(\"Özay\")"
   ]
  },
  {
   "cell_type": "code",
   "execution_count": 14,
   "id": "a83007d7-92fd-4394-adf5-86edf2f67de1",
   "metadata": {},
   "outputs": [],
   "source": [
    "def add(num1, num2):\n",
    "    print(num1 + num2)"
   ]
  },
  {
   "cell_type": "code",
   "execution_count": 15,
   "id": "404e3811-db4c-4775-8763-0ff0ebe58cea",
   "metadata": {},
   "outputs": [
    {
     "name": "stdout",
     "output_type": "stream",
     "text": [
      "8\n"
     ]
    }
   ],
   "source": [
    "add(3,5)"
   ]
  },
  {
   "cell_type": "code",
   "execution_count": 19,
   "id": "b1f55b32-f190-47eb-8440-0804fe16df0d",
   "metadata": {},
   "outputs": [],
   "source": [
    "def hello_surname(surname = \"Erden\"):\n",
    "    print(f\"hello {surname}\")"
   ]
  },
  {
   "cell_type": "code",
   "execution_count": 20,
   "id": "a7d6ccc0-9f4a-44c6-9192-c10a5107ec85",
   "metadata": {},
   "outputs": [
    {
     "name": "stdout",
     "output_type": "stream",
     "text": [
      "hello yildiz\n"
     ]
    }
   ],
   "source": [
    "hello_surname(\"yildiz\")"
   ]
  },
  {
   "cell_type": "code",
   "execution_count": 21,
   "id": "16d8be8e-0603-4685-8e1a-db336606845c",
   "metadata": {},
   "outputs": [
    {
     "name": "stdout",
     "output_type": "stream",
     "text": [
      "hello Erden\n"
     ]
    }
   ],
   "source": [
    "hello_surname()"
   ]
  },
  {
   "cell_type": "code",
   "execution_count": 22,
   "id": "283e6880-5716-4a52-8367-d78632638129",
   "metadata": {},
   "outputs": [],
   "source": [
    "# return"
   ]
  },
  {
   "cell_type": "code",
   "execution_count": 30,
   "id": "61be0535-05d9-4f32-a3f6-be61ebc787b2",
   "metadata": {},
   "outputs": [],
   "source": [
    "def sumantion(num1,num2,num3):\n",
    "    print(num1 + num2 + num3)"
   ]
  },
  {
   "cell_type": "code",
   "execution_count": 31,
   "id": "b290f9fe-75d0-41d2-9156-634abb5d4b54",
   "metadata": {},
   "outputs": [
    {
     "name": "stdout",
     "output_type": "stream",
     "text": [
      "6\n"
     ]
    }
   ],
   "source": [
    "sumantion(1,2,3)"
   ]
  },
  {
   "cell_type": "code",
   "execution_count": 32,
   "id": "828252c8-67a6-4d90-9e8b-ddbd86588059",
   "metadata": {},
   "outputs": [
    {
     "name": "stdout",
     "output_type": "stream",
     "text": [
      "6\n"
     ]
    },
    {
     "data": {
      "text/plain": [
       "NoneType"
      ]
     },
     "execution_count": 32,
     "metadata": {},
     "output_type": "execute_result"
    }
   ],
   "source": [
    "x = sumantion(1,2,3)\n",
    "type(x)"
   ]
  },
  {
   "cell_type": "code",
   "execution_count": 33,
   "id": "8a5c2d20-a7a3-45f8-85af-9d2300601bd9",
   "metadata": {},
   "outputs": [],
   "source": [
    "def sumantion(num1,num2,num3):\n",
    "    return (num1 + num2 + num3)"
   ]
  },
  {
   "cell_type": "code",
   "execution_count": 37,
   "id": "96be271b-0197-4356-81e1-6442b3e2fe6b",
   "metadata": {},
   "outputs": [
    {
     "data": {
      "text/plain": [
       "int"
      ]
     },
     "execution_count": 37,
     "metadata": {},
     "output_type": "execute_result"
    }
   ],
   "source": [
    "x = sumantion(1,2,3)\n",
    "type(x)"
   ]
  },
  {
   "cell_type": "code",
   "execution_count": 54,
   "id": "15cb161d-6c57-44d0-8343-78f1c18c3552",
   "metadata": {},
   "outputs": [],
   "source": [
    "def control_string(s):\n",
    "    if s[0] == \"a\":\n",
    "        print(\"a\")\n",
    "    else:\n",
    "        print(\"not\")"
   ]
  },
  {
   "cell_type": "code",
   "execution_count": 55,
   "id": "b133a86b-2668-409b-956f-7cf963c317f5",
   "metadata": {},
   "outputs": [
    {
     "name": "stdout",
     "output_type": "stream",
     "text": [
      "a\n"
     ]
    }
   ],
   "source": [
    "control_string(\"atlas\")"
   ]
  },
  {
   "cell_type": "code",
   "execution_count": 56,
   "id": "6a0673bf-266b-4347-9f95-d62dc64ed8b9",
   "metadata": {},
   "outputs": [
    {
     "name": "stdout",
     "output_type": "stream",
     "text": [
      "not\n"
     ]
    }
   ],
   "source": [
    "control_string(\"özay\")"
   ]
  },
  {
   "cell_type": "code",
   "execution_count": 57,
   "id": "dcc941a7-0d01-4542-9caa-bb61a8640138",
   "metadata": {},
   "outputs": [],
   "source": [
    "# args, kwargs (arguments, key word arguments)"
   ]
  },
  {
   "cell_type": "code",
   "execution_count": 58,
   "id": "403070d7-59ca-4e46-a5ef-88d6e193bef6",
   "metadata": {},
   "outputs": [],
   "source": [
    "def args_sum(*args):\n",
    "    return sum(args)"
   ]
  },
  {
   "cell_type": "code",
   "execution_count": 59,
   "id": "149048d7-a473-40f0-b6f5-00b219bbde97",
   "metadata": {},
   "outputs": [
    {
     "data": {
      "text/plain": [
       "40"
      ]
     },
     "execution_count": 59,
     "metadata": {},
     "output_type": "execute_result"
    }
   ],
   "source": [
    "args_sum(10,10,10,10)"
   ]
  },
  {
   "cell_type": "code",
   "execution_count": 60,
   "id": "018b2dc0-b0de-41d2-a8a1-4d96816930c8",
   "metadata": {},
   "outputs": [],
   "source": [
    "def args_tupple(*args):\n",
    "    return (args)"
   ]
  },
  {
   "cell_type": "code",
   "execution_count": 61,
   "id": "a4e791b3-f97d-4917-aacd-f697fdd85651",
   "metadata": {},
   "outputs": [
    {
     "data": {
      "text/plain": [
       "(10, 20, 30, 40, 50)"
      ]
     },
     "execution_count": 61,
     "metadata": {},
     "output_type": "execute_result"
    }
   ],
   "source": [
    "args_tupple(10,20,30,40,50)"
   ]
  },
  {
   "cell_type": "markdown",
   "id": "37a5f7c4-7ef0-440a-b1d3-0a5e1df1862f",
   "metadata": {},
   "source": [
    "### kwargs genelde dict için kullanılır"
   ]
  },
  {
   "cell_type": "code",
   "execution_count": 62,
   "id": "a4eacafc-0a8f-4a89-afde-19f32f858581",
   "metadata": {},
   "outputs": [],
   "source": [
    "def kwargs_example(**kwargs):\n",
    "    print(kwargs)"
   ]
  },
  {
   "cell_type": "code",
   "execution_count": 63,
   "id": "27719218-b939-44c1-95b4-8817e2d6e029",
   "metadata": {},
   "outputs": [
    {
     "name": "stdout",
     "output_type": "stream",
     "text": [
      "{'apple': 100, 'banana': 100, 'melon': 300}\n"
     ]
    }
   ],
   "source": [
    "kwargs_example(apple=100, banana=100,melon=300)"
   ]
  },
  {
   "cell_type": "code",
   "execution_count": 64,
   "id": "c3618d65-938c-4e6c-925d-da0d79ab9e04",
   "metadata": {},
   "outputs": [],
   "source": [
    "def kwargs_example2(**kwargs):\n",
    "    if(\"apple\" in kwargs):\n",
    "        print(\"apllleeee\")\n",
    "    else:\n",
    "        print(\":(((\")"
   ]
  },
  {
   "cell_type": "code",
   "execution_count": 66,
   "id": "3dcb359e-dc82-4b61-aff5-cf5fc8a67a27",
   "metadata": {},
   "outputs": [
    {
     "name": "stdout",
     "output_type": "stream",
     "text": [
      "apllleeee\n"
     ]
    }
   ],
   "source": [
    "kwargs_example2(apple = 100)"
   ]
  },
  {
   "cell_type": "code",
   "execution_count": null,
   "id": "f2aa0394-c163-4619-b548-12cdfcd8ea0f",
   "metadata": {},
   "outputs": [],
   "source": []
  }
 ],
 "metadata": {
  "kernelspec": {
   "display_name": "Python [conda env:base] *",
   "language": "python",
   "name": "conda-base-py"
  },
  "language_info": {
   "codemirror_mode": {
    "name": "ipython",
    "version": 3
   },
   "file_extension": ".py",
   "mimetype": "text/x-python",
   "name": "python",
   "nbconvert_exporter": "python",
   "pygments_lexer": "ipython3",
   "version": "3.13.5"
  }
 },
 "nbformat": 4,
 "nbformat_minor": 5
}
