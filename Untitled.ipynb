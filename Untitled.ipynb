{
 "cells": [
  {
   "cell_type": "code",
   "execution_count": 1,
   "id": "edd32e49-99f7-4a79-bd7b-f141a5edcf07",
   "metadata": {},
   "outputs": [],
   "source": [
    "myName = \"Test Name\""
   ]
  },
  {
   "cell_type": "code",
   "execution_count": 2,
   "id": "0b507198-01b7-456a-9422-05ecf0ebcf97",
   "metadata": {},
   "outputs": [
    {
     "data": {
      "text/plain": [
       "9"
      ]
     },
     "execution_count": 2,
     "metadata": {},
     "output_type": "execute_result"
    }
   ],
   "source": [
    "len(myName)"
   ]
  },
  {
   "cell_type": "code",
   "execution_count": 3,
   "id": "875c96db-0fe0-45f8-9b40-d96b326db9f6",
   "metadata": {},
   "outputs": [
    {
     "data": {
      "text/plain": [
       "'e'"
      ]
     },
     "execution_count": 3,
     "metadata": {},
     "output_type": "execute_result"
    }
   ],
   "source": [
    "myName[len(myName) - 1]"
   ]
  },
  {
   "cell_type": "code",
   "execution_count": 4,
   "id": "dc22a7bc-322e-4cef-acb6-19e23b28dcf2",
   "metadata": {},
   "outputs": [
    {
     "data": {
      "text/plain": [
       "'e'"
      ]
     },
     "execution_count": 4,
     "metadata": {},
     "output_type": "execute_result"
    }
   ],
   "source": [
    "myName[-1]"
   ]
  },
  {
   "cell_type": "code",
   "execution_count": 5,
   "id": "aeb72440-6e14-47fb-bbe4-0e1e8ba805c9",
   "metadata": {},
   "outputs": [
    {
     "data": {
      "text/plain": [
       "'e'"
      ]
     },
     "execution_count": 5,
     "metadata": {},
     "output_type": "execute_result"
    }
   ],
   "source": [
    "myName[-1]"
   ]
  },
  {
   "cell_type": "markdown",
   "id": "eec20a5f-f293-43ec-ac8f-17661317c4fe",
   "metadata": {},
   "source": [
    "----------------------"
   ]
  },
  {
   "cell_type": "code",
   "execution_count": 6,
   "id": "abc61cc6-080e-4343-967e-0ab1cb690507",
   "metadata": {},
   "outputs": [],
   "source": [
    "barcode = \"ABCDEFG1020304050\""
   ]
  },
  {
   "cell_type": "code",
   "execution_count": 7,
   "id": "1ec75566-f642-4fd9-aa2a-f5054c15a32b",
   "metadata": {},
   "outputs": [
    {
     "data": {
      "text/plain": [
       "'ABC'"
      ]
     },
     "execution_count": 7,
     "metadata": {},
     "output_type": "execute_result"
    }
   ],
   "source": [
    "barcode[0] + barcode[1] + barcode[2]"
   ]
  },
  {
   "cell_type": "code",
   "execution_count": 8,
   "id": "91c724d0-6b75-406f-b4b2-bc52a1cf025f",
   "metadata": {},
   "outputs": [],
   "source": [
    "# starting index, stopping index, stepping size"
   ]
  },
  {
   "cell_type": "code",
   "execution_count": 9,
   "id": "eff41df8-c4a3-48b8-b69b-0586bc4bde34",
   "metadata": {},
   "outputs": [
    {
     "data": {
      "text/plain": [
       "'DEFG1020304050'"
      ]
     },
     "execution_count": 9,
     "metadata": {},
     "output_type": "execute_result"
    }
   ],
   "source": [
    "barcode[3::]"
   ]
  },
  {
   "cell_type": "code",
   "execution_count": 10,
   "id": "84a36ad3-dd34-40a0-b5f1-5e32126a12fb",
   "metadata": {},
   "outputs": [
    {
     "data": {
      "text/plain": [
       "'ABC'"
      ]
     },
     "execution_count": 10,
     "metadata": {},
     "output_type": "execute_result"
    }
   ],
   "source": [
    "barcode[:3:]"
   ]
  },
  {
   "cell_type": "code",
   "execution_count": 11,
   "id": "19f1656a-e439-43bb-b392-667d5bdf0c2e",
   "metadata": {},
   "outputs": [
    {
     "data": {
      "text/plain": [
       "'DEF'"
      ]
     },
     "execution_count": 11,
     "metadata": {},
     "output_type": "execute_result"
    }
   ],
   "source": [
    "barcode[3:6:]"
   ]
  },
  {
   "cell_type": "code",
   "execution_count": 12,
   "id": "8bf33497-dd0b-45b9-a664-fd4758707f63",
   "metadata": {},
   "outputs": [
    {
     "data": {
      "text/plain": [
       "'DF12345'"
      ]
     },
     "execution_count": 12,
     "metadata": {},
     "output_type": "execute_result"
    }
   ],
   "source": [
    "barcode[3::2]"
   ]
  },
  {
   "cell_type": "code",
   "execution_count": 13,
   "id": "cf02ec6e-11f6-4aa5-83c4-87010d280ff6",
   "metadata": {},
   "outputs": [
    {
     "data": {
      "text/plain": [
       "'DE'"
      ]
     },
     "execution_count": 13,
     "metadata": {},
     "output_type": "execute_result"
    }
   ],
   "source": [
    "barcode[3:5:]"
   ]
  },
  {
   "cell_type": "code",
   "execution_count": 14,
   "id": "0edcb738-a527-4f84-93cb-a5054fa754ce",
   "metadata": {},
   "outputs": [
    {
     "data": {
      "text/plain": [
       "'0504030201GFEDCBA'"
      ]
     },
     "execution_count": 14,
     "metadata": {},
     "output_type": "execute_result"
    }
   ],
   "source": [
    "barcode[::-1] # Ters çevirir."
   ]
  },
  {
   "cell_type": "markdown",
   "id": "b8ba3a75-11db-41c6-a0c5-baf5e5d5fa43",
   "metadata": {},
   "source": [
    "# LIST"
   ]
  },
  {
   "cell_type": "code",
   "execution_count": 15,
   "id": "ee3f9897-c96e-4d30-937b-b1fd27367b9e",
   "metadata": {},
   "outputs": [
    {
     "data": {
      "text/plain": [
       "[10, 20, 30]"
      ]
     },
     "execution_count": 15,
     "metadata": {},
     "output_type": "execute_result"
    }
   ],
   "source": [
    "myList = [10,20,30]\n",
    "myList"
   ]
  },
  {
   "cell_type": "code",
   "execution_count": 16,
   "id": "d9297ea0-ce9a-43ce-8d3f-e8f4b752e821",
   "metadata": {},
   "outputs": [
    {
     "data": {
      "text/plain": [
       "list"
      ]
     },
     "execution_count": 16,
     "metadata": {},
     "output_type": "execute_result"
    }
   ],
   "source": [
    "type(myList)"
   ]
  },
  {
   "cell_type": "code",
   "execution_count": 17,
   "id": "27158840-7d61-4104-83f1-cbed1f4cca40",
   "metadata": {},
   "outputs": [
    {
     "data": {
      "text/plain": [
       "int"
      ]
     },
     "execution_count": 17,
     "metadata": {},
     "output_type": "execute_result"
    }
   ],
   "source": [
    "type(myList[2])"
   ]
  },
  {
   "cell_type": "code",
   "execution_count": 18,
   "id": "ece9e8cc-11e2-4714-8e6b-d9f3090837fc",
   "metadata": {},
   "outputs": [],
   "source": [
    "myList[0] = 100"
   ]
  },
  {
   "cell_type": "code",
   "execution_count": 19,
   "id": "0aeef07a-858e-44fd-b5ff-701f1c624e60",
   "metadata": {},
   "outputs": [
    {
     "data": {
      "text/plain": [
       "[100, 20, 30]"
      ]
     },
     "execution_count": 19,
     "metadata": {},
     "output_type": "execute_result"
    }
   ],
   "source": [
    "myList"
   ]
  },
  {
   "cell_type": "code",
   "execution_count": 20,
   "id": "ebb57d03-3d52-4299-a168-897438fa8074",
   "metadata": {},
   "outputs": [
    {
     "data": {
      "text/plain": [
       "3"
      ]
     },
     "execution_count": 20,
     "metadata": {},
     "output_type": "execute_result"
    }
   ],
   "source": [
    "len(myList)"
   ]
  },
  {
   "cell_type": "code",
   "execution_count": 21,
   "id": "ab1e75bf-1c1a-4faa-875a-110006487869",
   "metadata": {},
   "outputs": [
    {
     "data": {
      "text/plain": [
       "30"
      ]
     },
     "execution_count": 21,
     "metadata": {},
     "output_type": "execute_result"
    }
   ],
   "source": [
    "myList[-1]"
   ]
  },
  {
   "cell_type": "code",
   "execution_count": 22,
   "id": "557d664d-cb4e-4789-ab38-872d6d33bdff",
   "metadata": {},
   "outputs": [
    {
     "data": {
      "text/plain": [
       "[100, 20, 30, 80]"
      ]
     },
     "execution_count": 22,
     "metadata": {},
     "output_type": "execute_result"
    }
   ],
   "source": [
    "myList.append(80)\n",
    "myList"
   ]
  },
  {
   "cell_type": "code",
   "execution_count": 23,
   "id": "ebad6a46-42be-4b3b-9929-1ab8bfcdd191",
   "metadata": {},
   "outputs": [
    {
     "data": {
      "text/plain": [
       "3"
      ]
     },
     "execution_count": 23,
     "metadata": {},
     "output_type": "execute_result"
    }
   ],
   "source": [
    "myList.index(80)"
   ]
  },
  {
   "cell_type": "code",
   "execution_count": 24,
   "id": "81f99360-bb7f-462a-9dfe-251f94c9aa21",
   "metadata": {},
   "outputs": [
    {
     "data": {
      "text/plain": [
       "1"
      ]
     },
     "execution_count": 24,
     "metadata": {},
     "output_type": "execute_result"
    }
   ],
   "source": [
    "myList.count(20)"
   ]
  },
  {
   "cell_type": "code",
   "execution_count": 25,
   "id": "bf5074f2-8c8d-4fc5-883d-95677a62fc8e",
   "metadata": {},
   "outputs": [],
   "source": [
    "myList.insert(2,35) # 2. indexe 35 ekledi."
   ]
  },
  {
   "cell_type": "code",
   "execution_count": 26,
   "id": "4e9c69a5-0676-4fd0-8392-58741d47b73c",
   "metadata": {},
   "outputs": [
    {
     "data": {
      "text/plain": [
       "80"
      ]
     },
     "execution_count": 26,
     "metadata": {},
     "output_type": "execute_result"
    }
   ],
   "source": [
    "myList.pop() # sondaki elemanı siler"
   ]
  },
  {
   "cell_type": "code",
   "execution_count": 27,
   "id": "1448d980-e4ea-4aca-85fc-28d8c4eb3ab5",
   "metadata": {},
   "outputs": [
    {
     "data": {
      "text/plain": [
       "[100, 20, 35, 30]"
      ]
     },
     "execution_count": 27,
     "metadata": {},
     "output_type": "execute_result"
    }
   ],
   "source": [
    "myList"
   ]
  },
  {
   "cell_type": "code",
   "execution_count": 28,
   "id": "42819c12-f1a2-4f68-9b7f-6426850aaf4a",
   "metadata": {},
   "outputs": [],
   "source": [
    "myList.remove(100) # İçine verilen elemanı siler"
   ]
  },
  {
   "cell_type": "code",
   "execution_count": 30,
   "id": "51c3c75e-59fe-4161-81a3-4b8abd638a32",
   "metadata": {},
   "outputs": [
    {
     "data": {
      "text/plain": [
       "[20, 35, 30]"
      ]
     },
     "execution_count": 30,
     "metadata": {},
     "output_type": "execute_result"
    }
   ],
   "source": [
    "myList"
   ]
  },
  {
   "cell_type": "code",
   "execution_count": 33,
   "id": "2fb582a8-267b-4d23-87d3-92d6a344be19",
   "metadata": {},
   "outputs": [],
   "source": [
    "myList.reverse() # Ters çevirir."
   ]
  },
  {
   "cell_type": "code",
   "execution_count": 34,
   "id": "a91613cf-53d8-42d9-9060-2f0328d961cf",
   "metadata": {},
   "outputs": [],
   "source": [
    "myList.sort() # Sıralar."
   ]
  },
  {
   "cell_type": "code",
   "execution_count": 35,
   "id": "73372d87-f33d-4369-a66a-2c3f123253ac",
   "metadata": {},
   "outputs": [
    {
     "name": "stdin",
     "output_type": "stream",
     "text": [
      "enter x 10\n"
     ]
    }
   ],
   "source": [
    "x = input(\"enter x\")"
   ]
  },
  {
   "cell_type": "code",
   "execution_count": 36,
   "id": "386ff8e0-9262-4de2-9b67-eef58cd2f089",
   "metadata": {},
   "outputs": [
    {
     "data": {
      "text/plain": [
       "str"
      ]
     },
     "execution_count": 36,
     "metadata": {},
     "output_type": "execute_result"
    }
   ],
   "source": [
    "type(x)"
   ]
  },
  {
   "cell_type": "code",
   "execution_count": 37,
   "id": "73e094ae-6faa-4054-be42-9ebe37e12589",
   "metadata": {},
   "outputs": [
    {
     "name": "stdin",
     "output_type": "stream",
     "text": [
      "enter y:  30\n"
     ]
    }
   ],
   "source": [
    "y = input(\"enter y: \")"
   ]
  },
  {
   "cell_type": "code",
   "execution_count": 38,
   "id": "a511c639-032a-4198-b319-6dbb3275440f",
   "metadata": {},
   "outputs": [],
   "source": [
    "inputList = []"
   ]
  },
  {
   "cell_type": "code",
   "execution_count": 39,
   "id": "0d349f54-12ed-4e3a-93c7-02cd5b112ddc",
   "metadata": {},
   "outputs": [
    {
     "data": {
      "text/plain": [
       "['10', '30']"
      ]
     },
     "execution_count": 39,
     "metadata": {},
     "output_type": "execute_result"
    }
   ],
   "source": [
    "inputList.append(x)\n",
    "inputList.append(y)\n",
    "inputList"
   ]
  },
  {
   "cell_type": "code",
   "execution_count": 42,
   "id": "d13172d1-421f-4ee1-8d90-fa7cd48e3102",
   "metadata": {},
   "outputs": [
    {
     "data": {
      "text/plain": [
       "10"
      ]
     },
     "execution_count": 42,
     "metadata": {},
     "output_type": "execute_result"
    }
   ],
   "source": [
    "myInteger = int(x)\n",
    "myInteger"
   ]
  },
  {
   "cell_type": "code",
   "execution_count": 43,
   "id": "6426a483-48bc-4756-a948-15ccda9fa399",
   "metadata": {},
   "outputs": [
    {
     "data": {
      "text/plain": [
       "int"
      ]
     },
     "execution_count": 43,
     "metadata": {},
     "output_type": "execute_result"
    }
   ],
   "source": [
    "type(myInteger)"
   ]
  },
  {
   "cell_type": "code",
   "execution_count": 44,
   "id": "58058136-a1f8-4d23-a69e-d17a16c09e09",
   "metadata": {},
   "outputs": [
    {
     "data": {
      "text/plain": [
       "\"['10', '30']\""
      ]
     },
     "execution_count": 44,
     "metadata": {},
     "output_type": "execute_result"
    }
   ],
   "source": [
    "str(inputList)"
   ]
  },
  {
   "cell_type": "code",
   "execution_count": 45,
   "id": "6450c2c2-1fb6-4c3a-b557-2da88770c21e",
   "metadata": {},
   "outputs": [
    {
     "data": {
      "text/plain": [
       "[10, 20, 30, 40, 50, 60]"
      ]
     },
     "execution_count": 45,
     "metadata": {},
     "output_type": "execute_result"
    }
   ],
   "source": [
    "list1 = [10,20,30]\n",
    "list2 = [40,50,60]\n",
    "list1 + list2"
   ]
  },
  {
   "cell_type": "code",
   "execution_count": null,
   "id": "5616370f-0424-494d-ad60-0affba588365",
   "metadata": {},
   "outputs": [],
   "source": []
  }
 ],
 "metadata": {
  "kernelspec": {
   "display_name": "Python [conda env:base] *",
   "language": "python",
   "name": "conda-base-py"
  },
  "language_info": {
   "codemirror_mode": {
    "name": "ipython",
    "version": 3
   },
   "file_extension": ".py",
   "mimetype": "text/x-python",
   "name": "python",
   "nbconvert_exporter": "python",
   "pygments_lexer": "ipython3",
   "version": "3.13.5"
  }
 },
 "nbformat": 4,
 "nbformat_minor": 5
}
