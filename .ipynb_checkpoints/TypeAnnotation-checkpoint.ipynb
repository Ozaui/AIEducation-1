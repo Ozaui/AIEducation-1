{
 "cells": [
  {
   "cell_type": "code",
   "execution_count": 1,
   "id": "f0fd0d03-6199-4b07-8e94-3a3dc972441a",
   "metadata": {},
   "outputs": [],
   "source": [
    "name = \"Özay\""
   ]
  },
  {
   "cell_type": "code",
   "execution_count": 2,
   "id": "d1b603ff-c6b6-402c-8eca-bf823d1558c3",
   "metadata": {},
   "outputs": [
    {
     "data": {
      "text/plain": [
       "str"
      ]
     },
     "execution_count": 2,
     "metadata": {},
     "output_type": "execute_result"
    }
   ],
   "source": [
    "type(name)"
   ]
  },
  {
   "cell_type": "code",
   "execution_count": 5,
   "id": "78ff25dc-c288-45ae-9526-2ed2b72510dd",
   "metadata": {},
   "outputs": [],
   "source": [
    "name2: str = \"Merve\" # Typescript ama manası yok ve sadece string vermiyor. Kodu etkilemiyor."
   ]
  },
  {
   "cell_type": "code",
   "execution_count": 6,
   "id": "9f555c5a-e45a-43bd-98a5-028e93995808",
   "metadata": {},
   "outputs": [],
   "source": [
    "def add_numbers(a:int, b:int) -> int:\n",
    "    return a + b\n",
    "\n",
    "# a ve b int değer alsın ve sonuç int dönsün"
   ]
  },
  {
   "cell_type": "code",
   "execution_count": 7,
   "id": "79f8c1e9-be60-42ff-85a4-08cc863b91fe",
   "metadata": {},
   "outputs": [],
   "source": [
    "def process_value(value:int | str) -> str:\n",
    "    if isinstance(value, int):\n",
    "        return f\"Procossed integer: {value}\"\n",
    "    else: \n",
    "        return f\"Procossed string: {value}\""
   ]
  },
  {
   "cell_type": "code",
   "execution_count": 8,
   "id": "63f024de-e2f9-43b4-8bea-4419fc794202",
   "metadata": {},
   "outputs": [
    {
     "data": {
      "text/plain": [
       "'Procossed integer: 50'"
      ]
     },
     "execution_count": 8,
     "metadata": {},
     "output_type": "execute_result"
    }
   ],
   "source": [
    "process_value(50)"
   ]
  },
  {
   "cell_type": "code",
   "execution_count": 9,
   "id": "089cebf9-30ab-43dc-9fcf-132891ad131e",
   "metadata": {},
   "outputs": [
    {
     "data": {
      "text/plain": [
       "'Procossed string: özay'"
      ]
     },
     "execution_count": 9,
     "metadata": {},
     "output_type": "execute_result"
    }
   ],
   "source": [
    "process_value(\"özay\")"
   ]
  },
  {
   "cell_type": "code",
   "execution_count": 10,
   "id": "e3d7201e-5dc5-4c9c-a172-4ffd0c5fa04c",
   "metadata": {},
   "outputs": [
    {
     "data": {
      "text/plain": [
       "'Procossed string: [10, 20, 30]'"
      ]
     },
     "execution_count": 10,
     "metadata": {},
     "output_type": "execute_result"
    }
   ],
   "source": [
    "process_value([10,20,30])"
   ]
  }
 ],
 "metadata": {
  "kernelspec": {
   "display_name": "Python [conda env:base] *",
   "language": "python",
   "name": "conda-base-py"
  },
  "language_info": {
   "codemirror_mode": {
    "name": "ipython",
    "version": 3
   },
   "file_extension": ".py",
   "mimetype": "text/x-python",
   "name": "python",
   "nbconvert_exporter": "python",
   "pygments_lexer": "ipython3",
   "version": "3.13.5"
  }
 },
 "nbformat": 4,
 "nbformat_minor": 5
}
